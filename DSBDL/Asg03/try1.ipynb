{
 "cells": [
  {
   "cell_type": "code",
   "execution_count": 14,
   "metadata": {},
   "outputs": [],
   "source": [
    "import numpy as np \n",
    "import pandas as pd \n",
    "import math \n"
   ]
  },
  {
   "cell_type": "code",
   "execution_count": 15,
   "metadata": {},
   "outputs": [],
   "source": [
    "df=pd.read_csv('raw_data.csv')"
   ]
  },
  {
   "cell_type": "code",
   "execution_count": 16,
   "metadata": {},
   "outputs": [
    {
     "data": {
      "text/html": [
       "<div>\n",
       "<style scoped>\n",
       "    .dataframe tbody tr th:only-of-type {\n",
       "        vertical-align: middle;\n",
       "    }\n",
       "\n",
       "    .dataframe tbody tr th {\n",
       "        vertical-align: top;\n",
       "    }\n",
       "\n",
       "    .dataframe thead th {\n",
       "        text-align: right;\n",
       "    }\n",
       "</style>\n",
       "<table border=\"1\" class=\"dataframe\">\n",
       "  <thead>\n",
       "    <tr style=\"text-align: right;\">\n",
       "      <th></th>\n",
       "      <th>math score</th>\n",
       "      <th>reading score</th>\n",
       "      <th>writing score</th>\n",
       "      <th>Placement Score</th>\n",
       "      <th>placement offer count</th>\n",
       "    </tr>\n",
       "  </thead>\n",
       "  <tbody>\n",
       "    <tr>\n",
       "      <th>0</th>\n",
       "      <td>72.000000</td>\n",
       "      <td>72.00</td>\n",
       "      <td>74.0</td>\n",
       "      <td>78.000</td>\n",
       "      <td>1</td>\n",
       "    </tr>\n",
       "    <tr>\n",
       "      <th>1</th>\n",
       "      <td>69.000000</td>\n",
       "      <td>90.00</td>\n",
       "      <td>88.0</td>\n",
       "      <td>62.125</td>\n",
       "      <td>2</td>\n",
       "    </tr>\n",
       "    <tr>\n",
       "      <th>2</th>\n",
       "      <td>90.000000</td>\n",
       "      <td>95.00</td>\n",
       "      <td>93.0</td>\n",
       "      <td>74.000</td>\n",
       "      <td>2</td>\n",
       "    </tr>\n",
       "    <tr>\n",
       "      <th>3</th>\n",
       "      <td>47.000000</td>\n",
       "      <td>57.00</td>\n",
       "      <td>77.0</td>\n",
       "      <td>78.000</td>\n",
       "      <td>1</td>\n",
       "    </tr>\n",
       "    <tr>\n",
       "      <th>4</th>\n",
       "      <td>52.285714</td>\n",
       "      <td>78.00</td>\n",
       "      <td>75.0</td>\n",
       "      <td>81.000</td>\n",
       "      <td>3</td>\n",
       "    </tr>\n",
       "    <tr>\n",
       "      <th>5</th>\n",
       "      <td>71.000000</td>\n",
       "      <td>72.25</td>\n",
       "      <td>78.0</td>\n",
       "      <td>70.000</td>\n",
       "      <td>4</td>\n",
       "    </tr>\n",
       "    <tr>\n",
       "      <th>6</th>\n",
       "      <td>12.000000</td>\n",
       "      <td>44.00</td>\n",
       "      <td>52.0</td>\n",
       "      <td>12.000</td>\n",
       "      <td>2</td>\n",
       "    </tr>\n",
       "    <tr>\n",
       "      <th>7</th>\n",
       "      <td>52.285714</td>\n",
       "      <td>65.00</td>\n",
       "      <td>67.0</td>\n",
       "      <td>49.000</td>\n",
       "      <td>1</td>\n",
       "    </tr>\n",
       "    <tr>\n",
       "      <th>8</th>\n",
       "      <td>5.000000</td>\n",
       "      <td>77.00</td>\n",
       "      <td>89.0</td>\n",
       "      <td>55.000</td>\n",
       "      <td>0</td>\n",
       "    </tr>\n",
       "  </tbody>\n",
       "</table>\n",
       "</div>"
      ],
      "text/plain": [
       "   math score  reading score  writing score  Placement Score  \\\n",
       "0   72.000000          72.00           74.0           78.000   \n",
       "1   69.000000          90.00           88.0           62.125   \n",
       "2   90.000000          95.00           93.0           74.000   \n",
       "3   47.000000          57.00           77.0           78.000   \n",
       "4   52.285714          78.00           75.0           81.000   \n",
       "5   71.000000          72.25           78.0           70.000   \n",
       "6   12.000000          44.00           52.0           12.000   \n",
       "7   52.285714          65.00           67.0           49.000   \n",
       "8    5.000000          77.00           89.0           55.000   \n",
       "\n",
       "   placement offer count  \n",
       "0                      1  \n",
       "1                      2  \n",
       "2                      2  \n",
       "3                      1  \n",
       "4                      3  \n",
       "5                      4  \n",
       "6                      2  \n",
       "7                      1  \n",
       "8                      0  "
      ]
     },
     "execution_count": 16,
     "metadata": {},
     "output_type": "execute_result"
    }
   ],
   "source": [
    "df"
   ]
  },
  {
   "cell_type": "code",
   "execution_count": 21,
   "metadata": {},
   "outputs": [],
   "source": [
    "def mean_value(variable):\n",
    "    sum_values(df[variable]).sum()\n",
    "    count_values(df[variable]).count()\n",
    "    return sum_values/count_values\n"
   ]
  },
  {
   "cell_type": "code",
   "execution_count": 23,
   "metadata": {},
   "outputs": [
    {
     "ename": "NameError",
     "evalue": "name 'sum_values' is not defined",
     "output_type": "error",
     "traceback": [
      "\u001b[1;31m---------------------------------------------------------------------------\u001b[0m",
      "\u001b[1;31mNameError\u001b[0m                                 Traceback (most recent call last)",
      "Cell \u001b[1;32mIn[23], line 1\u001b[0m\n\u001b[1;32m----> 1\u001b[0m \u001b[43mmean_value\u001b[49m\u001b[43m(\u001b[49m\u001b[38;5;124;43m'\u001b[39;49m\u001b[38;5;124;43mmath score\u001b[39;49m\u001b[38;5;124;43m'\u001b[39;49m\u001b[43m)\u001b[49m\n",
      "Cell \u001b[1;32mIn[21], line 2\u001b[0m, in \u001b[0;36mmean_value\u001b[1;34m(variable)\u001b[0m\n\u001b[0;32m      1\u001b[0m \u001b[38;5;28;01mdef\u001b[39;00m \u001b[38;5;21mmean_value\u001b[39m(variable):\n\u001b[1;32m----> 2\u001b[0m     \u001b[43msum_values\u001b[49m(df[variable])\u001b[38;5;241m.\u001b[39msum()\n\u001b[0;32m      3\u001b[0m     count_values(df[variable])\u001b[38;5;241m.\u001b[39mcount()\n\u001b[0;32m      4\u001b[0m     \u001b[38;5;28;01mreturn\u001b[39;00m sum_values\u001b[38;5;241m/\u001b[39mcount_values\n",
      "\u001b[1;31mNameError\u001b[0m: name 'sum_values' is not defined"
     ]
    }
   ],
   "source": [
    "mean_value('math score')"
   ]
  },
  {
   "cell_type": "code",
   "execution_count": 36,
   "metadata": {},
   "outputs": [
    {
     "name": "stdout",
     "output_type": "stream",
     "text": [
      "52.28571422222222\n",
      "52.28571422222222\n"
     ]
    }
   ],
   "source": [
    "sum_value=df['math score'].sum()\n",
    "count_value=df['math score'].count()\n",
    "\n",
    "mean_val=sum_value/count_value\n",
    "print(mean_val)\n",
    "print(df['math score'].mean())"
   ]
  },
  {
   "cell_type": "code",
   "execution_count": 39,
   "metadata": {},
   "outputs": [
    {
     "name": "stdout",
     "output_type": "stream",
     "text": [
      "52.285714\n"
     ]
    }
   ],
   "source": [
    "middle_index=math.floor(count_value/2)\n",
    "median=np.sort(df['math score'])[middle_index]\n",
    "print(median)"
   ]
  },
  {
   "cell_type": "code",
   "execution_count": 43,
   "metadata": {},
   "outputs": [
    {
     "data": {
      "text/plain": [
       "52.285714"
      ]
     },
     "execution_count": 43,
     "metadata": {},
     "output_type": "execute_result"
    }
   ],
   "source": [
    "def median(variable):\n",
    "    middle_index=math.floor(count_value/2)\n",
    "    return np.sort(df[variable])[middle_index]\n",
    "\n",
    "\n",
    "median('math score')"
   ]
  },
  {
   "cell_type": "code",
   "execution_count": 45,
   "metadata": {},
   "outputs": [
    {
     "data": {
      "text/plain": [
       "72.25"
      ]
     },
     "execution_count": 45,
     "metadata": {},
     "output_type": "execute_result"
    }
   ],
   "source": [
    "median('reading score')"
   ]
  },
  {
   "cell_type": "code",
   "execution_count": 50,
   "metadata": {},
   "outputs": [
    {
     "data": {
      "text/plain": [
       "95.0"
      ]
     },
     "execution_count": 50,
     "metadata": {},
     "output_type": "execute_result"
    }
   ],
   "source": [
    "def max_value(variable):\n",
    "        return np.sort(df[variable])[-1]\n",
    "    \n",
    "max_value(\"math score\")\n",
    "max_value('reading score')"
   ]
  },
  {
   "cell_type": "code",
   "execution_count": 55,
   "metadata": {},
   "outputs": [
    {
     "name": "stdout",
     "output_type": "stream",
     "text": [
      "5.0\n",
      "44.0\n"
     ]
    }
   ],
   "source": [
    "def min_value(variable):\n",
    "        return np.sort(df[variable])[0]\n",
    "    \n",
    "print(min_value(\"math score\"))\n",
    "print(min_value('reading score'))"
   ]
  },
  {
   "cell_type": "code",
   "execution_count": 70,
   "metadata": {},
   "outputs": [
    {
     "name": "stdout",
     "output_type": "stream",
     "text": [
      "703.047619047619\n"
     ]
    },
    {
     "data": {
      "text/plain": [
       "26.515045145117497"
      ]
     },
     "execution_count": 70,
     "metadata": {},
     "output_type": "execute_result"
    }
   ],
   "source": [
    "def variance(data,ddof=0):\n",
    "    n=len(data)\n",
    "    mean=sum(data)/n\n",
    "    return sum((x-mean)**2 for x in data)/(n-ddof)\n",
    "\n",
    "print(variance(df['math score']))\n",
    "\n",
    "def std(data):\n",
    "    return (((variance(data))))**0.5\n",
    "\n",
    "std(df['math score'])"
   ]
  },
  {
   "cell_type": "code",
   "execution_count": 71,
   "metadata": {},
   "outputs": [
    {
     "data": {
      "text/plain": [
       "count     9.000000\n",
       "mean     52.285714\n",
       "std      28.123452\n",
       "min       5.000000\n",
       "25%      47.000000\n",
       "50%      52.285714\n",
       "75%      71.000000\n",
       "max      90.000000\n",
       "Name: math score, dtype: float64"
      ]
     },
     "execution_count": 71,
     "metadata": {},
     "output_type": "execute_result"
    }
   ],
   "source": [
    "df['math score'].describe()"
   ]
  }
 ],
 "metadata": {
  "kernelspec": {
   "display_name": "Python 3",
   "language": "python",
   "name": "python3"
  },
  "language_info": {
   "codemirror_mode": {
    "name": "ipython",
    "version": 3
   },
   "file_extension": ".py",
   "mimetype": "text/x-python",
   "name": "python",
   "nbconvert_exporter": "python",
   "pygments_lexer": "ipython3",
   "version": "3.10.7"
  }
 },
 "nbformat": 4,
 "nbformat_minor": 2
}
